{
  "cells": [
    {
      "cell_type": "markdown",
      "metadata": {
        "id": "SjNAmtyUT33o"
      },
      "source": [
        "<h2>Sentence Transformers</h2>"
      ]
    },
    {
      "cell_type": "markdown",
      "metadata": {
        "id": "PC08IHg2jNe1"
      },
      "source": [
        "**Resources:**\n",
        "\n",
        "*   https://www.sbert.net/index.html\n",
        "*   https://www.sbert.net/docs/pretrained_models.html\n",
        "\n"
      ]
    },
    {
      "cell_type": "markdown",
      "metadata": {
        "id": "aJ9U2MTSQCGe"
      },
      "source": [
        "**Use cases:**\n",
        "\n",
        "\n",
        "\n",
        "*   Sentence Embedding\n",
        "*   Sentence Similarity\n",
        "*   Semantic Search\n",
        "*   Clustering\n",
        "\n",
        "\n",
        "\n",
        "\n",
        "\n",
        "\n",
        "\n",
        "\n",
        "\n",
        "\n"
      ]
    },
    {
      "cell_type": "code",
      "execution_count": null,
      "metadata": {
        "id": "iBxOfXwbeurS"
      },
      "outputs": [],
      "source": [
        "!pip install -U sentence-transformers"
      ]
    },
    {
      "cell_type": "markdown",
      "metadata": {
        "id": "8Fe3mt_jCTL0"
      },
      "source": [
        "**Generate Embeding**"
      ]
    },
    {
      "cell_type": "code",
      "execution_count": 1,
      "metadata": {
        "id": "QXuwDrEsTl-7"
      },
      "outputs": [
        {
          "data": {
            "application/vnd.jupyter.widget-view+json": {
              "model_id": "c157d62acb024b61a8f6ed85f7b9a60c",
              "version_major": 2,
              "version_minor": 0
            },
            "text/plain": [
              "Downloading (…)e9125/.gitattributes:   0%|          | 0.00/1.18k [00:00<?, ?B/s]"
            ]
          },
          "metadata": {},
          "output_type": "display_data"
        },
        {
          "data": {
            "application/vnd.jupyter.widget-view+json": {
              "model_id": "e2958ae53da44acab00cb3de6e5c7f1a",
              "version_major": 2,
              "version_minor": 0
            },
            "text/plain": [
              "Downloading (…)_Pooling/config.json:   0%|          | 0.00/190 [00:00<?, ?B/s]"
            ]
          },
          "metadata": {},
          "output_type": "display_data"
        },
        {
          "data": {
            "application/vnd.jupyter.widget-view+json": {
              "model_id": "5bb1190bdbf94f0e98e0f3ad99fd0a6f",
              "version_major": 2,
              "version_minor": 0
            },
            "text/plain": [
              "Downloading (…)7e55de9125/README.md:   0%|          | 0.00/10.6k [00:00<?, ?B/s]"
            ]
          },
          "metadata": {},
          "output_type": "display_data"
        },
        {
          "data": {
            "application/vnd.jupyter.widget-view+json": {
              "model_id": "5f8121acb54f4c9db358e753467e2542",
              "version_major": 2,
              "version_minor": 0
            },
            "text/plain": [
              "Downloading (…)55de9125/config.json:   0%|          | 0.00/612 [00:00<?, ?B/s]"
            ]
          },
          "metadata": {},
          "output_type": "display_data"
        },
        {
          "data": {
            "application/vnd.jupyter.widget-view+json": {
              "model_id": "e21d54236af94979ac91716edd61d6c7",
              "version_major": 2,
              "version_minor": 0
            },
            "text/plain": [
              "Downloading (…)ce_transformers.json:   0%|          | 0.00/116 [00:00<?, ?B/s]"
            ]
          },
          "metadata": {},
          "output_type": "display_data"
        },
        {
          "data": {
            "application/vnd.jupyter.widget-view+json": {
              "model_id": "6e2db5a969544052bbd2a4ac73dfd82e",
              "version_major": 2,
              "version_minor": 0
            },
            "text/plain": [
              "Downloading (…)125/data_config.json:   0%|          | 0.00/39.3k [00:00<?, ?B/s]"
            ]
          },
          "metadata": {},
          "output_type": "display_data"
        },
        {
          "data": {
            "application/vnd.jupyter.widget-view+json": {
              "model_id": "05edc885862243e78d4c1e5ab80f7f71",
              "version_major": 2,
              "version_minor": 0
            },
            "text/plain": [
              "Downloading pytorch_model.bin:   0%|          | 0.00/90.9M [00:00<?, ?B/s]"
            ]
          },
          "metadata": {},
          "output_type": "display_data"
        },
        {
          "data": {
            "application/vnd.jupyter.widget-view+json": {
              "model_id": "003edf5427cf4b889b15e6223b5ff046",
              "version_major": 2,
              "version_minor": 0
            },
            "text/plain": [
              "Downloading (…)nce_bert_config.json:   0%|          | 0.00/53.0 [00:00<?, ?B/s]"
            ]
          },
          "metadata": {},
          "output_type": "display_data"
        },
        {
          "data": {
            "application/vnd.jupyter.widget-view+json": {
              "model_id": "60f5e46789b14879b077b9418214b949",
              "version_major": 2,
              "version_minor": 0
            },
            "text/plain": [
              "Downloading (…)cial_tokens_map.json:   0%|          | 0.00/112 [00:00<?, ?B/s]"
            ]
          },
          "metadata": {},
          "output_type": "display_data"
        },
        {
          "data": {
            "application/vnd.jupyter.widget-view+json": {
              "model_id": "79750d288d3b4fe2b4d7c336ef355a35",
              "version_major": 2,
              "version_minor": 0
            },
            "text/plain": [
              "Downloading (…)e9125/tokenizer.json:   0%|          | 0.00/466k [00:00<?, ?B/s]"
            ]
          },
          "metadata": {},
          "output_type": "display_data"
        },
        {
          "data": {
            "application/vnd.jupyter.widget-view+json": {
              "model_id": "a5073cea0345481ab6d9d4706237e746",
              "version_major": 2,
              "version_minor": 0
            },
            "text/plain": [
              "Downloading (…)okenizer_config.json:   0%|          | 0.00/350 [00:00<?, ?B/s]"
            ]
          },
          "metadata": {},
          "output_type": "display_data"
        },
        {
          "data": {
            "application/vnd.jupyter.widget-view+json": {
              "model_id": "9022398565c84dccb978d70a5a591422",
              "version_major": 2,
              "version_minor": 0
            },
            "text/plain": [
              "Downloading (…)9125/train_script.py:   0%|          | 0.00/13.2k [00:00<?, ?B/s]"
            ]
          },
          "metadata": {},
          "output_type": "display_data"
        },
        {
          "data": {
            "application/vnd.jupyter.widget-view+json": {
              "model_id": "ed2e3f0218e649f29d61af07e60d9571",
              "version_major": 2,
              "version_minor": 0
            },
            "text/plain": [
              "Downloading (…)7e55de9125/vocab.txt:   0%|          | 0.00/232k [00:00<?, ?B/s]"
            ]
          },
          "metadata": {},
          "output_type": "display_data"
        },
        {
          "data": {
            "application/vnd.jupyter.widget-view+json": {
              "model_id": "5492b93b37c74f74ae7e7b5c7d2c14cd",
              "version_major": 2,
              "version_minor": 0
            },
            "text/plain": [
              "Downloading (…)5de9125/modules.json:   0%|          | 0.00/349 [00:00<?, ?B/s]"
            ]
          },
          "metadata": {},
          "output_type": "display_data"
        }
      ],
      "source": [
        "from sentence_transformers import SentenceTransformer,util\n",
        "model = SentenceTransformer('all-MiniLM-L6-v2')"
      ]
    },
    {
      "cell_type": "code",
      "execution_count": 5,
      "metadata": {
        "id": "03fm2wdZejPc"
      },
      "outputs": [
        {
          "name": "stdout",
          "output_type": "stream",
          "text": [
            "Sentence: This framework generates embeddings for each input sentence\n",
            "Embedding: [-1.37173515e-02 -4.28515263e-02 -1.56286191e-02  1.40537461e-02\n",
            "  3.95537652e-02  1.21796273e-01  2.94333976e-02 -3.17524374e-02\n",
            "  3.54959629e-02 -7.93140009e-02  1.75878499e-02 -4.04369719e-02\n",
            "  4.97259013e-02  2.54912358e-02 -7.18700811e-02  8.14968571e-02\n",
            "  1.47071795e-03  4.79627065e-02 -4.50336374e-02 -9.92175341e-02\n",
            " -2.81769596e-02  6.45046309e-02  4.44670394e-02 -4.76217121e-02\n",
            " -3.52952704e-02  4.38671745e-02 -5.28566167e-02  4.33056121e-04\n",
            "  1.01921491e-01  1.64072365e-02  3.26996744e-02 -3.45986672e-02\n",
            "  1.21339224e-02  7.94870928e-02  4.58344305e-03  1.57778151e-02\n",
            " -9.68209282e-03  2.87625547e-02 -5.05805984e-02 -1.55793717e-02\n",
            " -2.87906677e-02 -9.62280110e-03  3.15556712e-02  2.27348469e-02\n",
            "  8.71449336e-02 -3.85027304e-02 -8.84718299e-02 -8.75501614e-03\n",
            " -2.12343130e-02  2.08923612e-02 -9.02077407e-02 -5.25731780e-02\n",
            " -1.05638774e-02  2.88310535e-02 -1.61455069e-02  6.17838791e-03\n",
            " -1.23234559e-02 -1.07337199e-02  2.83353571e-02 -5.28567918e-02\n",
            " -3.58617939e-02 -5.97989261e-02 -1.09055331e-02  2.91566215e-02\n",
            "  7.97979236e-02 -3.27887363e-04  6.83502434e-03  1.32718226e-02\n",
            " -4.24620360e-02  1.87656786e-02 -9.89234298e-02  2.09049582e-02\n",
            " -8.69605690e-02 -1.50151672e-02 -4.86201867e-02  8.04414451e-02\n",
            " -3.67700867e-03 -6.65044338e-02  1.14556767e-01 -3.04228589e-02\n",
            "  2.96631772e-02 -2.80695446e-02  4.64989841e-02 -2.25513950e-02\n",
            "  8.54223445e-02  3.15446481e-02  7.34541938e-02 -2.21862160e-02\n",
            " -5.29678725e-02  1.27130346e-02 -5.27339689e-02 -1.06188744e-01\n",
            "  7.04731643e-02  2.76736747e-02 -8.05531740e-02  2.39649639e-02\n",
            " -2.65125185e-02 -2.17330623e-02  4.35275584e-02  4.84712161e-02\n",
            " -2.37067603e-02  2.85768434e-02  1.11846149e-01 -6.34935945e-02\n",
            " -1.58318412e-02 -2.26169862e-02 -1.31027624e-02 -1.62068335e-03\n",
            " -3.60928960e-02 -9.78297517e-02 -4.67728972e-02  1.76271796e-02\n",
            " -3.97492163e-02 -1.76405243e-04  3.39627713e-02 -2.09633317e-02\n",
            "  6.33664429e-03 -2.59410962e-02  8.10410604e-02  6.14393540e-02\n",
            " -5.44592040e-03  6.48276061e-02 -1.16844088e-01  2.36860998e-02\n",
            " -1.32058430e-02 -1.12476498e-01  1.90049317e-02 -1.74660874e-34\n",
            "  5.58949634e-02  1.94244310e-02  4.65438738e-02  5.18645570e-02\n",
            "  3.89390551e-02  3.40541229e-02 -4.32114378e-02  7.90636986e-02\n",
            " -9.79529843e-02 -1.27441008e-02 -2.91870851e-02  1.02052214e-02\n",
            "  1.88115984e-02  1.08942538e-01  6.63464516e-02 -5.35295382e-02\n",
            " -3.29228528e-02  4.69827242e-02  2.28883065e-02  2.74114665e-02\n",
            " -2.91982908e-02  3.12706456e-02 -2.22850516e-02 -1.02282204e-01\n",
            " -2.79116500e-02  1.13793192e-02  9.06308740e-02 -4.75414544e-02\n",
            " -1.00718945e-01 -1.23231979e-02 -7.96928555e-02 -1.44636109e-02\n",
            " -7.76401013e-02 -7.66920485e-03  9.73955262e-03  2.24204883e-02\n",
            "  7.77268410e-02 -3.17154522e-03  2.11538319e-02 -3.30393910e-02\n",
            "  9.55248065e-03 -3.73011827e-02  2.61360630e-02 -9.79088899e-03\n",
            " -6.31505698e-02  5.77434851e-03 -3.80030870e-02  1.29684890e-02\n",
            " -1.82499513e-02 -1.56283118e-02 -1.23361358e-03  5.55579104e-02\n",
            "  1.13094145e-04 -5.61256446e-02  7.40165338e-02  1.84452366e-02\n",
            " -2.66368464e-02  1.31952111e-02  7.50086606e-02 -2.46796571e-02\n",
            " -3.24006006e-02 -1.57675017e-02 -8.03518202e-03 -5.61317476e-03\n",
            "  1.05687762e-02  3.26165534e-03 -3.91990170e-02 -9.38677192e-02\n",
            "  1.14227191e-01  6.57304525e-02 -4.72633876e-02  1.45087428e-02\n",
            " -3.54490243e-02 -3.37761790e-02 -5.15505783e-02 -3.81004857e-03\n",
            " -5.15036359e-02 -5.93429171e-02 -1.69412477e-03  7.42107406e-02\n",
            " -4.20091674e-02 -7.19974712e-02  3.17250155e-02 -1.66303236e-02\n",
            "  3.96983977e-03 -6.52750880e-02  2.77391039e-02 -7.51649216e-02\n",
            "  2.27455478e-02 -3.91368158e-02  1.54315801e-02 -5.54908738e-02\n",
            "  1.23318788e-02 -2.59520691e-02  6.66423663e-02 -6.91258866e-34\n",
            "  3.31628881e-02  8.47928748e-02 -6.65583834e-02  3.33541222e-02\n",
            "  4.71609924e-03  1.35361915e-02 -5.38694337e-02  9.20693949e-02\n",
            " -2.96876561e-02  3.16219851e-02 -2.37496961e-02  1.98771022e-02\n",
            "  1.03446200e-01 -9.06947255e-02  6.30624453e-03  1.42886313e-02\n",
            "  1.19294124e-02  6.43722992e-03  4.20104675e-02  1.25344815e-02\n",
            "  3.93019170e-02  5.35691828e-02 -4.30749990e-02  6.10432029e-02\n",
            " -5.39859029e-05  6.91682398e-02  1.05520058e-02  1.22112064e-02\n",
            " -7.23185018e-02  2.50469781e-02 -5.18371277e-02 -4.36562300e-02\n",
            " -6.71818703e-02  1.34828258e-02 -7.25888908e-02  7.04168761e-03\n",
            "  6.58939630e-02  1.08994441e-02 -2.60012550e-03  5.49968854e-02\n",
            "  5.06966710e-02  3.27948928e-02 -6.68832883e-02  6.45557567e-02\n",
            " -2.52075624e-02 -2.92572044e-02 -1.16696715e-01  3.24064642e-02\n",
            "  5.85858300e-02 -3.51756439e-02 -7.15240017e-02  2.24935766e-02\n",
            " -1.00786701e-01 -4.74545099e-02 -7.61963278e-02 -5.87166250e-02\n",
            "  4.21138555e-02 -7.47213662e-02  1.98467895e-02 -3.36502469e-03\n",
            " -5.29736616e-02  2.74729915e-02  3.45736891e-02 -6.11846298e-02\n",
            "  1.06364816e-01 -9.64119658e-02 -4.55944873e-02  1.51489666e-02\n",
            " -5.13523119e-03 -6.64447919e-02  4.31721732e-02 -1.10405665e-02\n",
            " -9.80250351e-03  7.53783062e-02 -1.49571253e-02 -4.80208434e-02\n",
            "  5.80726489e-02 -2.43896581e-02 -2.23137252e-02 -4.36992198e-02\n",
            "  5.12053929e-02 -3.28626186e-02  1.08763315e-01  6.08926378e-02\n",
            "  3.30790295e-03  5.53819798e-02  8.43201354e-02  1.27087599e-02\n",
            "  3.84465270e-02  6.52325526e-02 -2.94683911e-02  5.08005023e-02\n",
            " -2.09348053e-02  1.46135688e-01  2.25561187e-02 -1.77227761e-08\n",
            " -5.02672717e-02 -2.79230037e-04 -1.00328632e-01  2.42811199e-02\n",
            " -7.54043609e-02 -3.79139744e-02  3.96050029e-02  3.10079549e-02\n",
            " -9.05705709e-03 -6.50412142e-02  4.05453257e-02  4.83390056e-02\n",
            " -4.56962325e-02  4.76005394e-03  2.64361780e-03  9.35614258e-02\n",
            " -4.02599648e-02  3.27401869e-02  1.18298009e-02  5.54344840e-02\n",
            "  1.48052230e-01  7.21189082e-02  2.76958774e-04  1.68651473e-02\n",
            "  8.34883004e-03 -8.76153447e-03 -1.33649614e-02  6.14237338e-02\n",
            "  1.57168023e-02  6.94960877e-02  1.08621977e-02  6.08018301e-02\n",
            " -5.33421785e-02 -3.47923785e-02 -3.36271934e-02  6.93907067e-02\n",
            "  1.22987702e-02 -1.45237371e-01 -2.06968631e-03 -4.61132452e-02\n",
            "  3.72749683e-03 -5.59356296e-03 -1.00659840e-01 -4.45953235e-02\n",
            "  5.40921241e-02  4.98891110e-03  1.49534279e-02 -8.26059729e-02\n",
            "  6.26631156e-02 -5.01904357e-03 -4.81857508e-02 -3.53991278e-02\n",
            "  9.03387275e-03 -2.42338032e-02  5.66267259e-02  2.51529124e-02\n",
            " -1.70708857e-02 -1.24780312e-02  3.19518112e-02  1.38421264e-02\n",
            " -1.55814979e-02  1.00178242e-01  1.23657219e-01 -4.22966965e-02]\n",
            "\n",
            "Sentence: Sentences are passed as a list of string.\n",
            "Embedding: [ 5.64524829e-02  5.50024062e-02  3.13796028e-02  3.39485444e-02\n",
            " -3.54247168e-02  8.34667832e-02  9.88800675e-02  7.27548264e-03\n",
            " -6.68659201e-03 -7.65809324e-03  7.93738589e-02  7.39635201e-04\n",
            "  1.49292126e-02 -1.51046747e-02  3.67674455e-02  4.78743427e-02\n",
            " -4.81969304e-02 -3.76052260e-02 -4.60278168e-02 -8.89815986e-02\n",
            "  1.20228127e-01  1.30663261e-01 -3.73935997e-02  2.47854181e-03\n",
            "  2.55825510e-03  7.25814700e-02 -6.80436492e-02 -5.24696000e-02\n",
            "  4.90233935e-02  2.99563147e-02 -5.84429577e-02 -2.02263258e-02\n",
            "  2.08822154e-02  9.76691991e-02  3.52390483e-02  3.91140953e-02\n",
            "  1.05668185e-02  1.56233390e-03 -1.30823078e-02  8.52901954e-03\n",
            " -4.84095141e-03 -2.03766916e-02 -2.71800756e-02  2.83307508e-02\n",
            "  3.66017856e-02  2.51275916e-02 -9.90862250e-02  1.15626445e-02\n",
            " -3.60380150e-02 -7.23783895e-02 -1.12670109e-01  1.12942029e-02\n",
            " -3.86397392e-02  4.67386395e-02 -2.88460571e-02  2.26703938e-02\n",
            " -8.52405652e-03  3.32815163e-02 -1.06582278e-03 -7.09745809e-02\n",
            " -6.31169751e-02 -5.72186932e-02 -6.16026297e-02  5.47146201e-02\n",
            "  1.18317520e-02 -4.66261357e-02  2.56959721e-02 -7.07412511e-03\n",
            " -5.73843047e-02  4.12839353e-02 -5.91503307e-02  5.89021482e-02\n",
            " -4.41697352e-02  4.65080813e-02 -3.15814875e-02  5.58312461e-02\n",
            "  5.54578491e-02 -5.96533641e-02  4.06407341e-02  4.83761355e-03\n",
            " -4.96768057e-02 -1.00944340e-01  3.40078063e-02  4.13274392e-03\n",
            " -2.93526100e-03  2.11837497e-02 -3.73962224e-02 -2.79067084e-02\n",
            " -4.61767614e-02  5.26138507e-02 -2.79734936e-02 -1.62379280e-01\n",
            "  6.61042258e-02  1.72274057e-02 -5.45112835e-03  4.74473871e-02\n",
            " -3.82237583e-02 -3.96896824e-02  1.34545006e-02  4.49653827e-02\n",
            "  4.53671534e-03  2.82978602e-02  8.36632922e-02 -1.00858351e-02\n",
            " -1.19354002e-01 -3.84624563e-02  4.82858643e-02 -9.46084037e-02\n",
            "  1.91854089e-02 -9.96518210e-02 -6.30596876e-02  3.02696135e-02\n",
            "  1.17402552e-02 -4.78372723e-02 -6.20267633e-03 -3.32850441e-02\n",
            " -4.04392555e-03  1.28306653e-02  4.05254364e-02  7.56476671e-02\n",
            "  2.92434674e-02  2.84270700e-02 -2.78938804e-02  1.66858230e-02\n",
            " -2.47961618e-02 -6.83650896e-02  2.89968774e-02 -5.39867674e-33\n",
            " -2.69015273e-03 -2.65069176e-02 -6.47923152e-04 -8.46198108e-03\n",
            " -7.35154375e-02  4.94079897e-03 -5.97841740e-02  1.03438254e-02\n",
            "  2.12900247e-03 -2.88216770e-03 -3.17076407e-02 -9.42364410e-02\n",
            "  3.03019807e-02  7.00226501e-02  4.50685360e-02  3.69439460e-02\n",
            "  1.13593647e-02  3.53026725e-02  5.50450338e-03  1.34416611e-03\n",
            "  3.46123567e-03  7.75047466e-02  5.45112491e-02 -7.92055652e-02\n",
            " -9.31696668e-02 -4.03398424e-02  3.10668945e-02 -3.83081399e-02\n",
            " -5.89442961e-02  1.93331800e-02 -2.67159902e-02 -7.91938230e-02\n",
            "  1.04193219e-04  7.70621076e-02  4.16603796e-02  8.90932232e-02\n",
            "  3.56843136e-02 -1.09153064e-02  3.71498466e-02 -2.07070410e-02\n",
            " -2.46100780e-02 -2.05025207e-02  2.62201279e-02  3.43590602e-02\n",
            "  4.39251401e-02 -8.20516516e-03 -8.40710104e-02  4.24170829e-02\n",
            "  4.87499386e-02  5.95384575e-02  2.87747998e-02  3.37638333e-02\n",
            " -4.07442823e-02 -1.66370964e-03  7.91927502e-02  3.41088362e-02\n",
            " -5.72836958e-04  1.87749807e-02 -1.36963716e-02  7.38332793e-02\n",
            "  5.74492908e-04  8.33505169e-02  5.60810901e-02 -1.13710929e-02\n",
            "  4.42611389e-02  2.69581825e-02 -4.80535962e-02 -3.15087326e-02\n",
            "  7.75226131e-02  1.81773473e-02 -8.83005038e-02 -7.85519183e-03\n",
            " -6.22242764e-02  7.19373003e-02 -2.33475063e-02  6.52483432e-03\n",
            " -9.49529745e-03 -9.88313034e-02  4.01306599e-02  3.07397041e-02\n",
            " -2.21607126e-02 -9.45911258e-02  1.02367951e-02  1.02187775e-01\n",
            " -4.12960388e-02 -3.15778069e-02  4.74752188e-02 -1.10209778e-01\n",
            "  1.69614982e-02 -3.71709317e-02 -1.03261862e-02 -4.72538397e-02\n",
            " -1.20213907e-02 -1.93255134e-02  5.79292104e-02  4.23866136e-34\n",
            "  3.92013118e-02  8.41361359e-02 -1.02946721e-01  6.92259967e-02\n",
            "  1.68821346e-02 -3.26760747e-02  9.65957344e-03  1.80899668e-02\n",
            "  2.17940230e-02  1.63189508e-02 -9.69292372e-02  3.74850444e-03\n",
            " -2.38456521e-02 -3.44055854e-02  7.11962953e-02  9.21902596e-04\n",
            " -6.23858487e-03  3.23754139e-02 -8.90379422e-04  5.01909433e-03\n",
            " -4.24537845e-02  9.89083573e-02 -4.60321158e-02  4.69704829e-02\n",
            " -1.75284538e-02 -7.02516595e-03  1.32743912e-02 -5.30151986e-02\n",
            "  2.66402168e-03  1.45818936e-02  7.43346009e-03 -3.07131633e-02\n",
            " -2.09416524e-02  8.24110135e-02 -5.15893921e-02 -2.71178018e-02\n",
            "  1.17582999e-01  7.72503531e-03 -1.89523250e-02  3.94559242e-02\n",
            "  7.17360675e-02  2.59116516e-02  2.75191609e-02  9.50543769e-03\n",
            " -3.02355550e-02 -4.07944620e-02 -1.04028486e-01 -7.97423162e-03\n",
            " -3.64455977e-03  3.29716206e-02 -2.35954784e-02 -7.50516960e-03\n",
            " -5.82234301e-02 -3.17905992e-02 -4.18049395e-02  2.17453409e-02\n",
            " -6.67291880e-02 -4.89104502e-02  4.58513340e-03 -2.66046673e-02\n",
            " -1.12597018e-01  5.11167608e-02  5.48534356e-02 -6.69856891e-02\n",
            "  1.26766294e-01 -8.59487653e-02 -5.94231337e-02 -2.92187859e-03\n",
            " -1.14875976e-02 -1.26025781e-01 -3.48282768e-03 -9.12001655e-02\n",
            " -1.22933045e-01  1.33777279e-02 -4.75775152e-02 -6.57933205e-02\n",
            " -3.39409858e-02 -3.07107586e-02 -5.22033833e-02 -2.35463884e-02\n",
            "  5.90035133e-02 -3.85757796e-02  3.19701396e-02  4.05118205e-02\n",
            "  1.67077705e-02 -3.58281024e-02  1.45688038e-02  3.20137739e-02\n",
            " -1.34843634e-02  6.07819706e-02 -8.31399951e-03 -1.08106108e-02\n",
            "  4.69410755e-02  7.66133964e-02 -4.23400328e-02 -2.11963300e-08\n",
            " -7.25292563e-02 -4.20228243e-02 -6.12374097e-02  5.24666682e-02\n",
            " -1.42363720e-02  1.18487170e-02 -1.40789179e-02 -3.67529914e-02\n",
            " -4.44977246e-02 -1.15140118e-02  5.23316748e-02  2.96651665e-02\n",
            " -4.62780371e-02 -3.70892659e-02  1.89129636e-02  2.04307102e-02\n",
            " -2.24006083e-02 -1.48562565e-02 -1.79504137e-02  4.20007557e-02\n",
            "  1.40942540e-02 -2.83492040e-02 -1.16862990e-01  1.48956645e-02\n",
            " -7.30555563e-04  5.66028245e-02 -2.68740263e-02  1.09106652e-01\n",
            "  2.94561172e-03  1.19267873e-01  1.14212461e-01  8.92973542e-02\n",
            " -1.70255415e-02 -4.99053895e-02 -2.11930405e-02  3.18421759e-02\n",
            "  7.03436360e-02 -1.02929398e-01  8.23816806e-02  2.81968247e-02\n",
            "  3.21146250e-02  3.79108302e-02 -1.09553114e-01  8.19620490e-02\n",
            "  8.73216912e-02 -5.73563538e-02 -2.01709345e-02 -5.69444597e-02\n",
            " -1.30338222e-02 -5.55684455e-02 -1.32966004e-02  8.64010490e-03\n",
            "  5.30012585e-02 -4.06847261e-02  2.71708909e-02 -2.55946419e-03\n",
            "  3.05775795e-02 -4.61865328e-02  4.68036719e-03 -3.64947207e-02\n",
            "  6.80802837e-02  6.65087402e-02  8.49152282e-02 -3.32848914e-02]\n",
            "\n"
          ]
        }
      ],
      "source": [
        "sentences = ['This framework generates embeddings for each input sentence',\n",
        "    'Sentences are passed as a list of string.']\n",
        "\n",
        "\n",
        "embeddings = model.encode(sentences)\n",
        "\n",
        "\n",
        "for sentence, embedding in zip(sentences, embeddings):\n",
        "    print(\"Sentence:\", sentence)\n",
        "    print(\"Embedding:\", embedding)\n",
        "    print(\"\")\n",
        "\n",
        "\n"
      ]
    },
    {
      "cell_type": "markdown",
      "metadata": {
        "id": "YDc8_VCrCQGt"
      },
      "source": [
        "**Cosine-Similarity**"
      ]
    },
    {
      "cell_type": "code",
      "execution_count": null,
      "metadata": {
        "colab": {
          "base_uri": "https://localhost:8080/"
        },
        "id": "ZGz3bDLhewrZ",
        "outputId": "a14d7c3c-638a-4975-e70c-370d8a61ca03"
      },
      "outputs": [
        {
          "name": "stdout",
          "output_type": "stream",
          "text": [
            "Cosine-Similarity: tensor([[0.5398]])\n"
          ]
        }
      ],
      "source": [
        "emb1 = model.encode(\"I am eating Apple\")\n",
        "emb2 = model.encode(\"I like fruits\")\n",
        "cos_sim = util.cos_sim(emb1, emb2)\n",
        "print(\"Cosine-Similarity:\", cos_sim)"
      ]
    },
    {
      "cell_type": "markdown",
      "metadata": {
        "id": "Ml5sIVHOCY6u"
      },
      "source": [
        "**Compute cosine similarity between all pairs**"
      ]
    },
    {
      "cell_type": "code",
      "execution_count": null,
      "metadata": {
        "colab": {
          "base_uri": "https://localhost:8080/"
        },
        "id": "9lyr6Tjge9UY",
        "outputId": "01b57e4d-0c3d-435e-8b4f-25eda073c88e"
      },
      "outputs": [
        {
          "data": {
            "text/plain": [
              "tensor([[ 1.0000,  0.7553, -0.1050,  0.2474, -0.0704, -0.0333,  0.1707,  0.0476,\n",
              "          0.0630],\n",
              "        [ 0.7553,  1.0000, -0.0610,  0.1442, -0.0809, -0.0216,  0.1157,  0.0362,\n",
              "          0.0216],\n",
              "        [-0.1050, -0.0610,  1.0000, -0.1088,  0.0217, -0.0413, -0.0928,  0.0231,\n",
              "          0.0247],\n",
              "        [ 0.2474,  0.1442, -0.1088,  1.0000, -0.0348,  0.0362,  0.7369,  0.0821,\n",
              "          0.1389],\n",
              "        [-0.0704, -0.0809,  0.0217, -0.0348,  1.0000, -0.1654, -0.0592,  0.1961,\n",
              "          0.2564],\n",
              "        [-0.0333, -0.0216, -0.0413,  0.0362, -0.1654,  1.0000,  0.0769, -0.0380,\n",
              "         -0.0895],\n",
              "        [ 0.1707,  0.1157, -0.0928,  0.7369, -0.0592,  0.0769,  1.0000,  0.0495,\n",
              "          0.1191],\n",
              "        [ 0.0476,  0.0362,  0.0231,  0.0821,  0.1961, -0.0380,  0.0495,  1.0000,\n",
              "          0.6433],\n",
              "        [ 0.0630,  0.0216,  0.0247,  0.1389,  0.2564, -0.0895,  0.1191,  0.6433,\n",
              "          1.0000]])"
            ]
          },
          "execution_count": 6,
          "metadata": {},
          "output_type": "execute_result"
        }
      ],
      "source": [
        "# Compute cosine similarity between all pairs\n",
        "\n",
        "sentences = ['A man is eating food.',\n",
        "          'A man is eating a piece of bread.',\n",
        "          'The girl is carrying a baby.',\n",
        "          'A man is riding a horse.',\n",
        "          'A woman is playing violin.',\n",
        "          'Two men pushed carts through the woods.',\n",
        "          'A man is riding a white horse on an enclosed ground.',\n",
        "          'A monkey is playing drums.',\n",
        "          'Someone in a gorilla costume is playing a set of drums.'\n",
        "          ]\n",
        "\n",
        "#Encode all sentences\n",
        "embeddings = model.encode(sentences)\n",
        "\n",
        "#Compute cosine similarity between all pairs\n",
        "cos_sim = util.cos_sim(embeddings, embeddings)\n",
        "\n",
        "cos_sim\n",
        "\n"
      ]
    },
    {
      "cell_type": "code",
      "execution_count": null,
      "metadata": {
        "colab": {
          "base_uri": "https://localhost:8080/"
        },
        "id": "06H7O06b91_q",
        "outputId": "ecf163db-0c42-4ebe-9a3f-9f5b6f900272"
      },
      "outputs": [
        {
          "data": {
            "text/plain": [
              "[(tensor(0.7553), 0, 1),\n",
              " (tensor(-0.1050), 0, 2),\n",
              " (tensor(0.2474), 0, 3),\n",
              " (tensor(-0.0704), 0, 4),\n",
              " (tensor(-0.0333), 0, 5),\n",
              " (tensor(0.1707), 0, 6),\n",
              " (tensor(0.0476), 0, 7),\n",
              " (tensor(0.0630), 0, 8),\n",
              " (tensor(-0.0610), 1, 2),\n",
              " (tensor(0.1442), 1, 3),\n",
              " (tensor(-0.0809), 1, 4),\n",
              " (tensor(-0.0216), 1, 5),\n",
              " (tensor(0.1157), 1, 6),\n",
              " (tensor(0.0362), 1, 7),\n",
              " (tensor(0.0216), 1, 8),\n",
              " (tensor(-0.1088), 2, 3),\n",
              " (tensor(0.0217), 2, 4),\n",
              " (tensor(-0.0413), 2, 5),\n",
              " (tensor(-0.0928), 2, 6),\n",
              " (tensor(0.0231), 2, 7),\n",
              " (tensor(0.0247), 2, 8),\n",
              " (tensor(-0.0348), 3, 4),\n",
              " (tensor(0.0362), 3, 5),\n",
              " (tensor(0.7369), 3, 6),\n",
              " (tensor(0.0821), 3, 7),\n",
              " (tensor(0.1389), 3, 8),\n",
              " (tensor(-0.1654), 4, 5),\n",
              " (tensor(-0.0592), 4, 6),\n",
              " (tensor(0.1961), 4, 7),\n",
              " (tensor(0.2564), 4, 8),\n",
              " (tensor(0.0769), 5, 6),\n",
              " (tensor(-0.0380), 5, 7),\n",
              " (tensor(-0.0895), 5, 8),\n",
              " (tensor(0.0495), 6, 7),\n",
              " (tensor(0.1191), 6, 8),\n",
              " (tensor(0.6433), 7, 8)]"
            ]
          },
          "execution_count": 7,
          "metadata": {},
          "output_type": "execute_result"
        }
      ],
      "source": [
        "#Add all pairs to a list with their cosine similarity score\n",
        "all_sentence_combinations = []\n",
        "for i in range(len(cos_sim)-1):\n",
        "    for j in range(i+1, len(cos_sim)):\n",
        "        all_sentence_combinations.append((cos_sim[i][j], i, j))\n",
        "all_sentence_combinations        "
      ]
    },
    {
      "cell_type": "code",
      "execution_count": null,
      "metadata": {
        "colab": {
          "base_uri": "https://localhost:8080/"
        },
        "id": "qhggYpNbfK4J",
        "outputId": "b4d486f0-4435-4513-8b01-f99f59946370"
      },
      "outputs": [
        {
          "name": "stdout",
          "output_type": "stream",
          "text": [
            "Top-5 most similar pairs:\n",
            "A man is eating food. \t A man is eating a piece of bread. \t 0.7553\n",
            "A man is riding a horse. \t A man is riding a white horse on an enclosed ground. \t 0.7369\n",
            "A monkey is playing drums. \t Someone in a gorilla costume is playing a set of drums. \t 0.6433\n",
            "A woman is playing violin. \t Someone in a gorilla costume is playing a set of drums. \t 0.2564\n",
            "A man is eating food. \t A man is riding a horse. \t 0.2474\n"
          ]
        }
      ],
      "source": [
        "#Sort list by the highest cosine similarity score\n",
        "all_sentence_combinations = sorted(all_sentence_combinations, key=lambda x: x[0], reverse=True)\n",
        "\n",
        "print(\"Top-5 most similar pairs:\")\n",
        "for score, i, j in all_sentence_combinations[0:5]:\n",
        "    print(\"{} \\t {} \\t {:.4f}\".format(sentences[i], sentences[j], cos_sim[i][j]))"
      ]
    },
    {
      "cell_type": "markdown",
      "metadata": {
        "id": "E0-VolFWK-Rq"
      },
      "source": [
        "**Semantic search**"
      ]
    },
    {
      "cell_type": "code",
      "execution_count": null,
      "metadata": {
        "colab": {
          "base_uri": "https://localhost:8080/"
        },
        "id": "wpX-L96mTthR",
        "outputId": "e4ff82e3-aac0-4853-df35-17df034ffcaf"
      },
      "outputs": [
        {
          "name": "stderr",
          "output_type": "stream",
          "text": [
            "/usr/local/lib/python3.7/dist-packages/transformers/configuration_utils.py:369: UserWarning: Passing `gradient_checkpointing` to a config initialization is deprecated and will be removed in v5 Transformers. Using `model.gradient_checkpointing_enable()` instead, or if you are using the `Trainer` API, pass `gradient_checkpointing=True` in your `TrainingArguments`.\n",
            "  \"Passing `gradient_checkpointing` to a config initialization is deprecated and will be removed in v5 \"\n"
          ]
        }
      ],
      "source": [
        "from sentence_transformers import SentenceTransformer, util\n",
        "model = SentenceTransformer('clips/mfaq')"
      ]
    },
    {
      "cell_type": "code",
      "execution_count": null,
      "metadata": {
        "colab": {
          "base_uri": "https://localhost:8080/"
        },
        "id": "z1gio-Pci9RF",
        "outputId": "5c45c533-ade1-469c-8d16-75248660302a"
      },
      "outputs": [
        {
          "name": "stdout",
          "output_type": "stream",
          "text": [
            "[[{'corpus_id': 0, 'score': 0.5646325945854187}, {'corpus_id': 2, 'score': 0.5142340660095215}, {'corpus_id': 1, 'score': 0.4730038046836853}]]\n"
          ]
        }
      ],
      "source": [
        "\n",
        "question = \"<Q>How many models can I host on HuggingFace?\"\n",
        "answer_1 = \"<A>All plans come with unlimited private models and datasets.\"\n",
        "answer_2 = \"<A>AutoNLP is an automatic way to train and deploy state-of-the-art NLP models, seamlessly integrated with the Hugging Face ecosystem.\"\n",
        "answer_3 = \"<A>Based on how much training data and model variants are created, we send you a compute cost and payment link - as low as $10 per job.\"\n",
        "\n",
        "query_embedding = model.encode(question)\n",
        "corpus_embeddings = model.encode([answer_1, answer_2, answer_3])\n",
        "\n",
        "print(util.semantic_search(query_embedding, corpus_embeddings))"
      ]
    },
    {
      "cell_type": "code",
      "execution_count": null,
      "metadata": {
        "id": "6FG1WXOudgYq"
      },
      "outputs": [],
      "source": [
        "from transformers import pipeline"
      ]
    },
    {
      "cell_type": "code",
      "execution_count": null,
      "metadata": {
        "colab": {
          "base_uri": "https://localhost:8080/"
        },
        "id": "1Qa18QF-ddMa",
        "outputId": "440e262a-1672-4f9b-e85b-c98bd1f96344"
      },
      "outputs": [
        {
          "name": "stderr",
          "output_type": "stream",
          "text": [
            "No model was supplied, defaulted to distilbert-base-cased-distilled-squad and revision 626af31 (https://huggingface.co/distilbert-base-cased-distilled-squad).\n",
            "Using a pipeline without specifying a model name and revision in production is not recommended.\n"
          ]
        },
        {
          "data": {
            "text/plain": [
              "{'answer': 'unlimited', 'end': 29, 'score': 0.701717734336853, 'start': 20}"
            ]
          },
          "execution_count": 14,
          "metadata": {},
          "output_type": "execute_result"
        }
      ],
      "source": [
        "qa_model = pipeline(\"question-answering\")\n",
        "question = \"How many models can I host on HuggingFace?\"\n",
        "context = \"All plans come with unlimited private models and datasets.\"\n",
        "qa_model(question = question, context = context)"
      ]
    },
    {
      "cell_type": "code",
      "execution_count": null,
      "metadata": {
        "id": "_J6IY-4oC4hF"
      },
      "outputs": [],
      "source": [
        "print(util.semantic_search(query_embedding, corpus_embeddings))"
      ]
    },
    {
      "cell_type": "markdown",
      "metadata": {
        "id": "G9tF0hu6K0TD"
      },
      "source": [
        "**Clustering**"
      ]
    },
    {
      "cell_type": "code",
      "execution_count": null,
      "metadata": {
        "id": "BC9xCE63G0UF"
      },
      "outputs": [],
      "source": [
        "from sklearn.cluster import KMeans\n",
        "import numpy as np\n",
        "\n",
        "embedder = SentenceTransformer('all-MiniLM-L6-v2')\n",
        "\n",
        "# Corpus with example sentences\n",
        "corpus = ['A man is eating food.',\n",
        "          'A man is eating a piece of bread.',\n",
        "          'Horse is eating grass.',\n",
        "          'A man is eating pasta.',\n",
        "          'A Woman is eating Biryani.',\n",
        "          'The girl is carrying a baby.',\n",
        "          'The baby is carried by the woman',\n",
        "          'A man is riding a horse.',\n",
        "          'A man is riding a white horse on an enclosed ground.',\n",
        "          'A monkey is playing drums.',\n",
        "          'Someone in a gorilla costume is playing a set of drums.',\n",
        "          'A cheetah is running behind its prey.',\n",
        "          'A cheetah chases prey on across a field.',\n",
        "          'The cheetah is chasing a man who is riding the horse.',\n",
        "          'man and women with their baby are watching cheetah in zoo'\n",
        "          ]\n",
        "corpus_embeddings = embedder.encode(corpus)\n",
        "\n",
        "# Normalize the embeddings to unit length\n",
        "corpus_embeddings = corpus_embeddings /  np.linalg.norm(corpus_embeddings, axis=1, keepdims=True)"
      ]
    },
    {
      "cell_type": "code",
      "execution_count": null,
      "metadata": {
        "id": "ri3xLpcXerJW"
      },
      "outputs": [],
      "source": [
        "corpus_embeddings[0]"
      ]
    },
    {
      "cell_type": "code",
      "execution_count": null,
      "metadata": {
        "colab": {
          "base_uri": "https://localhost:8080/"
        },
        "id": "f-pCHO7EkDKj",
        "outputId": "9728213e-3be7-4735-b468-9708aa55dcb0"
      },
      "outputs": [
        {
          "name": "stdout",
          "output_type": "stream",
          "text": [
            "[1 1 3 1 1 0 0 3 3 2 2 3 3 3 0]\n"
          ]
        }
      ],
      "source": [
        "# source: https://stackoverflow.com/questions/55619176/how-to-cluster-similar-sentences-using-bert\n",
        "\n",
        "clustering_model = KMeans(n_clusters=4)\n",
        "clustering_model.fit(corpus_embeddings)\n",
        "cluster_assignment = clustering_model.labels_\n",
        "print(cluster_assignment)"
      ]
    },
    {
      "cell_type": "code",
      "execution_count": null,
      "metadata": {
        "colab": {
          "base_uri": "https://localhost:8080/"
        },
        "id": "Ih-1L7bJJq0k",
        "outputId": "d0bdf4f9-eae8-40a8-d98b-5458b1d26a36"
      },
      "outputs": [
        {
          "data": {
            "text/plain": [
              "{0: ['The girl is carrying a baby.',\n",
              "  'The baby is carried by the woman',\n",
              "  'A monkey is playing drums.',\n",
              "  'Someone in a gorilla costume is playing a set of drums.',\n",
              "  'man and women with their baby are watching cheetah in zoo'],\n",
              " 1: ['Horse is eating grass.',\n",
              "  'A man is riding a horse.',\n",
              "  'A man is riding a white horse on an enclosed ground.',\n",
              "  'A cheetah is running behind its prey.',\n",
              "  'A cheetah chases prey on across a field.',\n",
              "  'The cheetah is chasing a man who is riding the horse.'],\n",
              " 2: ['A man is eating food.',\n",
              "  'A man is eating a piece of bread.',\n",
              "  'A man is eating pasta.',\n",
              "  'A Woman is eating Biryani.']}"
            ]
          },
          "execution_count": 18,
          "metadata": {},
          "output_type": "execute_result"
        }
      ],
      "source": [
        "clustered_sentences = {}\n",
        "for sentence_id, cluster_id in enumerate(cluster_assignment):\n",
        "    if cluster_id not in clustered_sentences:\n",
        "        clustered_sentences[cluster_id] = []\n",
        "\n",
        "    clustered_sentences[cluster_id].append(corpus[sentence_id])\n",
        "clustered_sentences"
      ]
    },
    {
      "cell_type": "code",
      "execution_count": null,
      "metadata": {
        "colab": {
          "base_uri": "https://localhost:8080/"
        },
        "id": "O2eINiS3Sivc",
        "outputId": "90bd9c78-4a64-4ade-a824-225f199c454e"
      },
      "outputs": [
        {
          "data": {
            "text/plain": [
              "{0: ['The girl is carrying a baby.',\n",
              "  'The baby is carried by the woman',\n",
              "  'man and women with their baby are watching cheetah in zoo'],\n",
              " 1: ['A man is eating food.',\n",
              "  'A man is eating a piece of bread.',\n",
              "  'A man is eating pasta.',\n",
              "  'A Woman is eating Biryani.'],\n",
              " 2: ['A monkey is playing drums.',\n",
              "  'Someone in a gorilla costume is playing a set of drums.'],\n",
              " 3: ['Horse is eating grass.',\n",
              "  'A man is riding a horse.',\n",
              "  'A man is riding a white horse on an enclosed ground.',\n",
              "  'A cheetah is running behind its prey.',\n",
              "  'A cheetah chases prey on across a field.',\n",
              "  'The cheetah is chasing a man who is riding the horse.']}"
            ]
          },
          "execution_count": 20,
          "metadata": {},
          "output_type": "execute_result"
        }
      ],
      "source": [
        "clustered_sentences = {}\n",
        "for sentence_id, cluster_id in enumerate(cluster_assignment):\n",
        "    if cluster_id not in clustered_sentences:\n",
        "        clustered_sentences[cluster_id] = []\n",
        "\n",
        "    clustered_sentences[cluster_id].append(corpus[sentence_id])\n",
        "clustered_sentences"
      ]
    },
    {
      "cell_type": "code",
      "execution_count": null,
      "metadata": {
        "id": "O5GW-zqcfsPl"
      },
      "outputs": [],
      "source": []
    }
  ],
  "metadata": {
    "accelerator": "GPU",
    "colab": {
      "collapsed_sections": [],
      "name": "Youtube: Course Sentence Transformers.ipynb",
      "provenance": []
    },
    "gpuClass": "standard",
    "kernelspec": {
      "display_name": "Python 3",
      "name": "python3"
    },
    "language_info": {
      "codemirror_mode": {
        "name": "ipython",
        "version": 3
      },
      "file_extension": ".py",
      "mimetype": "text/x-python",
      "name": "python",
      "nbconvert_exporter": "python",
      "pygments_lexer": "ipython3",
      "version": "3.8.18"
    }
  },
  "nbformat": 4,
  "nbformat_minor": 0
}
